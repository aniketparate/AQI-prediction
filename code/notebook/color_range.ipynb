{
 "cells": [
  {
   "cell_type": "code",
   "execution_count": 12,
   "metadata": {},
   "outputs": [],
   "source": [
    "from PIL import Image\n",
    "import csv\n",
    "\n",
    "# Load the temperature color map image\n",
    "image = Image.open(\"data/img/original/2020_LST.bmp\")"
   ]
  },
  {
   "cell_type": "code",
   "execution_count": 3,
   "metadata": {},
   "outputs": [
    {
     "data": {
      "text/plain": [
       "11"
      ]
     },
     "execution_count": 3,
     "metadata": {},
     "output_type": "execute_result"
    }
   ],
   "source": [
    "# Create a CSV file to store the temperature data\n",
    "csv_file = open(\"temperature_data.csv\", \"w\", newline=\"\")\n",
    "csv_writer = csv.writer(csv_file)\n",
    "csv_writer.writerow([\"X\", \"Y\", \"r\", \"g\", \"b\"])"
   ]
  },
  {
   "cell_type": "code",
   "execution_count": 8,
   "metadata": {},
   "outputs": [],
   "source": [
    "# Iterate over each pixel in the image and extract temperature data\n",
    "pixels = image.load()\n",
    "width, height = image.size\n",
    "for x in range(width):\n",
    "    for y in range(height):\n",
    "        r, g, b = pixels[x, y]\n",
    "        if r == 0 and g == 0 and b == 0:\n",
    "            temperature = -1\n",
    "            csv_writer.writerow([x, y, -1, -1, -1])\n",
    "        else:\n",
    "            # Save the temperature data along with the pixel position to the CSV file\n",
    "            csv_writer.writerow([x, y, r, g, 0])\n",
    "\n",
    "\n",
    "# Close the CSV file\n",
    "csv_file.close()"
   ]
  },
  {
   "cell_type": "code",
   "execution_count": 9,
   "metadata": {},
   "outputs": [
    {
     "data": {
      "text/html": [
       "<div>\n",
       "<style scoped>\n",
       "    .dataframe tbody tr th:only-of-type {\n",
       "        vertical-align: middle;\n",
       "    }\n",
       "\n",
       "    .dataframe tbody tr th {\n",
       "        vertical-align: top;\n",
       "    }\n",
       "\n",
       "    .dataframe thead th {\n",
       "        text-align: right;\n",
       "    }\n",
       "</style>\n",
       "<table border=\"1\" class=\"dataframe\">\n",
       "  <thead>\n",
       "    <tr style=\"text-align: right;\">\n",
       "      <th></th>\n",
       "      <th>r</th>\n",
       "      <th>g</th>\n",
       "      <th>b</th>\n",
       "    </tr>\n",
       "  </thead>\n",
       "  <tbody>\n",
       "    <tr>\n",
       "      <th>0</th>\n",
       "      <td>-1</td>\n",
       "      <td>-1</td>\n",
       "      <td>-1</td>\n",
       "    </tr>\n",
       "    <tr>\n",
       "      <th>1</th>\n",
       "      <td>77</td>\n",
       "      <td>179</td>\n",
       "      <td>0</td>\n",
       "    </tr>\n",
       "    <tr>\n",
       "      <th>2</th>\n",
       "      <td>90</td>\n",
       "      <td>186</td>\n",
       "      <td>0</td>\n",
       "    </tr>\n",
       "    <tr>\n",
       "      <th>3</th>\n",
       "      <td>63</td>\n",
       "      <td>171</td>\n",
       "      <td>0</td>\n",
       "    </tr>\n",
       "    <tr>\n",
       "      <th>4</th>\n",
       "      <td>103</td>\n",
       "      <td>194</td>\n",
       "      <td>0</td>\n",
       "    </tr>\n",
       "  </tbody>\n",
       "</table>\n",
       "</div>"
      ],
      "text/plain": [
       "     r    g  b\n",
       "0   -1   -1 -1\n",
       "1   77  179  0\n",
       "2   90  186  0\n",
       "3   63  171  0\n",
       "4  103  194  0"
      ]
     },
     "execution_count": 9,
     "metadata": {},
     "output_type": "execute_result"
    }
   ],
   "source": [
    "import pandas as pd\n",
    "import colorsys\n",
    "df = pd.read_csv('temperature_data.csv')\n",
    "rgb_df = df.iloc[:, 2:5]\n",
    "rgb_df = rgb_df.drop_duplicates()\n",
    "rgb_df = rgb_df.reset_index(drop=True)\n",
    "\n",
    "rgb_df.head()\n"
   ]
  },
  {
   "cell_type": "code",
   "execution_count": 10,
   "metadata": {},
   "outputs": [
    {
     "data": {
      "text/plain": [
       "0                     (0.0, 0.0, -1)\n",
       "1     (0.2616387337057728, 1.0, 179)\n",
       "2    (0.25268817204301075, 1.0, 186)\n",
       "3     (0.2719298245614035, 1.0, 171)\n",
       "4     (0.2448453608247423, 1.0, 194)\n",
       "dtype: object"
      ]
     },
     "execution_count": 10,
     "metadata": {},
     "output_type": "execute_result"
    }
   ],
   "source": [
    "hsv_df = rgb_df.apply(lambda row: colorsys.rgb_to_hsv(row['r'], row['g'], row['b']), axis=1)\n",
    "\n",
    "hsv_df.head()"
   ]
  },
  {
   "cell_type": "code",
   "execution_count": 11,
   "metadata": {},
   "outputs": [
    {
     "name": "stdout",
     "output_type": "stream",
     "text": [
      "      r    g  b         H    S    V\n",
      "0    -1   -1 -1  0.000000  0.0   -1\n",
      "25  255    0  0  0.000000  1.0  255\n",
      "24  255   21  0  0.013725  1.0  255\n",
      "23  255   38  0  0.024837  1.0  255\n",
      "22  255   60  0  0.039216  1.0  255\n",
      "21  255   81  0  0.052941  1.0  255\n",
      "20  255  102  0  0.066667  1.0  255\n",
      "19  255  119  0  0.077778  1.0  255\n",
      "18  255  140  0  0.091503  1.0  255\n",
      "17  255  162  0  0.105882  1.0  255\n",
      "16  255  179  0  0.116993  1.0  255\n",
      "15  255  200  0  0.130719  1.0  255\n",
      "14  255  221  0  0.144444  1.0  255\n",
      "13  255  242  0  0.158170  1.0  255\n",
      "12  246  250  0  0.169333  1.0  250\n",
      "11  226  242  0  0.177686  1.0  242\n",
      "10  209  237  0  0.186357  1.0  237\n",
      "8   187  230  0  0.197826  1.0  230\n",
      "9   170  222  0  0.205706  1.0  222\n",
      "6   154  214  0  0.213396  1.0  214\n",
      "7   136  209  0  0.224880  1.0  209\n",
      "5   121  201  0  0.233002  1.0  201\n",
      "4   103  194  0  0.244845  1.0  194\n",
      "2    90  186  0  0.252688  1.0  186\n",
      "1    77  179  0  0.261639  1.0  179\n",
      "3    63  171  0  0.271930  1.0  171\n",
      "26   56  168  0  0.277778  1.0  168\n"
     ]
    }
   ],
   "source": [
    "# Add the HSV values to the DataFrame\n",
    "rgb_df['H'] = hsv_df.apply(lambda x: x[0])\n",
    "rgb_df['S'] = hsv_df.apply(lambda x: x[1])\n",
    "rgb_df['V'] = hsv_df.apply(lambda x: x[2])\n",
    "\n",
    "# Sort the DataFrame by hue (H) values\n",
    "sorted_rgb_df = rgb_df.sort_values(by='H')\n",
    "\n",
    "# Print the sorted RGB DataFrame\n",
    "print(sorted_rgb_df)"
   ]
  },
  {
   "cell_type": "code",
   "execution_count": 13,
   "metadata": {},
   "outputs": [
    {
     "data": {
      "image/png": "[encoded data removed]",
      "text/plain": [
       "<Figure size 600x100 with 1 Axes>"
      ]
     },
     "metadata": {},
     "output_type": "display_data"
    }
   ],
   "source": [
    "import matplotlib.pyplot as plt\n",
    "import matplotlib.colors as mcolors\n",
    "import numpy as np\n",
    "\n",
    "# Create a figure and axis for the legend\n",
    "fig, ax = plt.subplots(figsize=(6, 1))\n",
    "\n",
    "# Create a custom colormap with a gradient from red to yellow to green (without blue)\n",
    "colors = ['green', 'yellow', 'red']\n",
    "cmap = mcolors.LinearSegmentedColormap.from_list('custom', colors)\n",
    "\n",
    "# Create a colorbar with the temperature range from 0 to 50 degrees\n",
    "norm = plt.Normalize(0, 50)\n",
    "cb = plt.colorbar(plt.cm.ScalarMappable(norm=norm, cmap=cmap),\n",
    "                  cax=ax, orientation='horizontal')\n",
    "\n",
    "# Set the colorbar label\n",
    "cb.set_label('Temperature (°C)')\n",
    "\n",
    "# Show the plot\n",
    "plt.show()\n"
   ]
  },
  {
   "cell_type": "code",
   "execution_count": 18,
   "metadata": {},
   "outputs": [],
   "source": [
    "import pandas as pd\n",
    "import numpy as np\n",
    "import matplotlib.colors as mcolors\n",
    "\n",
    "# Create a custom colormap with a gradient from red to yellow to green (without blue)\n",
    "colors = ['green', 'yellow', 'red']\n",
    "cmap = mcolors.LinearSegmentedColormap.from_list('custom', colors)\n",
    "\n",
    "# Generate the RGB values and corresponding temperatures\n",
    "temperatures = np.arange(0, 51)\n",
    "rgb_values = cmap(temperatures / 50)[:, :3] * 255  # Scale to RGB range (0-255)\n",
    "\n",
    "# Convert RGB values to integers\n",
    "rgb_values = rgb_values.astype(int)\n",
    "\n",
    "# Create a DataFrame with the RGB and temperature values\n",
    "data = {'R': rgb_values[:, 0], 'G': rgb_values[:, 1], 'B': rgb_values[:, 2], 'Temperature': temperatures}\n",
    "df = pd.DataFrame(data)\n",
    "\n",
    "# Save the DataFrame to a CSV file\n",
    "df.to_csv('rgb_temperature_values.csv', index=False)\n"
   ]
  },
  {
   "cell_type": "code",
   "execution_count": 3,
   "metadata": {},
   "outputs": [
    {
     "name": "stdout",
     "output_type": "stream",
     "text": [
      "      R    G  B  Temperature\n",
      "0     0  128  0            6\n",
      "1     6  124  0            7\n",
      "2    13  121  0            8\n",
      "3    19  118  0            9\n",
      "4    26  114  0           10\n",
      "5    32  111  0           11\n",
      "6    39  108  0           12\n",
      "7    45  105  0           13\n",
      "8    52  101  0           14\n",
      "9    58   98  0           15\n",
      "10   65   95  0           16\n",
      "11   71   91  0           17\n",
      "12   78   88  0           18\n",
      "13   85   85  0           19\n",
      "14   91   82  0           20\n",
      "15   98   78  0           21\n",
      "16  104   75  0           22\n",
      "17  111   72  0           23\n",
      "18  117   68  0           24\n",
      "19  124   65  0           25\n",
      "20  130   62  0           26\n",
      "21  137   59  0           27\n",
      "22  143   55  0           28\n",
      "23  150   52  0           29\n",
      "24  156   49  0           30\n",
      "25  163   45  0           31\n",
      "26  170   42  0           32\n",
      "27  176   39  0           33\n",
      "28  183   36  0           34\n",
      "29  189   32  0           35\n",
      "30  196   29  0           36\n",
      "31  202   26  0           37\n",
      "32  209   22  0           38\n",
      "33  215   19  0           39\n",
      "34  222   16  0           40\n",
      "35  228   13  0           41\n",
      "36  235    9  0           42\n",
      "37  241    6  0           43\n",
      "38  248    3  0           44\n",
      "39  255    0  0           45\n"
     ]
    }
   ],
   "source": [
    "import pandas as pd\n",
    "import numpy as np\n",
    "\n",
    "# Define the temperature range\n",
    "start_temperature = 6\n",
    "end_temperature = 45\n",
    "\n",
    "# Generate the temperature values\n",
    "temperatures = np.arange(start_temperature, end_temperature+1)\n",
    "\n",
    "# Calculate the corresponding RGB values based on the temperature range\n",
    "r_values = np.linspace(0, 255, len(temperatures), dtype=int)\n",
    "g_values = np.linspace(128, 0, len(temperatures), dtype=int)\n",
    "b_values = np.zeros(len(temperatures), dtype=int)\n",
    "\n",
    "# Create a DataFrame with the RGB and temperature values\n",
    "data = {'R': r_values, 'G': g_values, 'B': b_values, 'Temperature': temperatures}\n",
    "df = pd.DataFrame(data)\n",
    "\n",
    "# Print the table\n",
    "print(df)\n",
    "df.to_csv('rgb_temperature_values.csv', index=False)"
   ]
  },
  {
   "cell_type": "code",
   "execution_count": null,
   "metadata": {},
   "outputs": [],
   "source": []
  }
 ],
 "metadata": {
  "kernelspec": {
   "display_name": "Python 3",
   "language": "python",
   "name": "python3"
  },
  "language_info": {
   "codemirror_mode": {
    "name": "ipython",
    "version": 3
   },
   "file_extension": ".py",
   "mimetype": "text/x-python",
   "name": "python",
   "nbconvert_exporter": "python",
   "pygments_lexer": "ipython3",
   "version": "3.11.4"
  },
  "orig_nbformat": 4
 },
 "nbformat": 4,
 "nbformat_minor": 2
}

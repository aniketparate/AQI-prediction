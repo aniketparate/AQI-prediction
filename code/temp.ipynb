{
 "cells": [
  {
   "cell_type": "code",
   "execution_count": 13,
   "metadata": {},
   "outputs": [
    {
     "name": "stdout",
     "output_type": "stream",
     "text": [
      "Temperature data extracted and saved to temperature_data.csv\n"
     ]
    }
   ],
   "source": [
    "import numpy as np\n",
    "import csv\n",
    "from PIL import Image\n",
    "\n",
    "# Open the temperature color map image\n",
    "image = Image.open('../data/img/og/2020_LST.bmp')\n",
    "\n",
    "# Convert the image to numpy array\n",
    "image_array = np.array(image)\n",
    "\n",
    "# Define the temperature range\n",
    "min_temp = 10  # Minimum temperature in degrees Celsius\n",
    "max_temp = 50  # Maximum temperature in degrees Celsius\n",
    "\n",
    "# Convert RGB to temperature values\n",
    "temperature_data = []\n",
    "height, width, _ = image_array.shape\n",
    "for y in range(height):\n",
    "    for x in range(width):\n",
    "        pixel = image_array[y, x]\n",
    "         # Interpolate temperature value based on pixel color\n",
    "        r, g, _ = pixel\n",
    "        if [r,g] == [0,0]:\n",
    "            temperature = -1\n",
    "            temperature_data.append([x, y, temperature])  # Save spatial coordinates and temperature\n",
    "        else:\n",
    "            temperature = min_temp + (max_temp - min_temp) * (1 - g / 255)\n",
    "            temperature_data.append([x, y, int(temperature)])  # Save spatial coordinates and temperature\n",
    "\n",
    "# Save temperature data to CSV file\n",
    "with open('temperature_data.csv', 'w', newline='') as csvfile:\n",
    "    writer = csv.writer(csvfile)\n",
    "    writer.writerow(['X', 'Y', 'Temperature'])  # Header row\n",
    "    writer.writerows(temperature_data)\n",
    "\n",
    "print(\"Temperature data extracted and saved to temperature_data.csv\")\n"
   ]
  },
  {
   "cell_type": "code",
   "execution_count": 16,
   "metadata": {},
   "outputs": [
    {
     "name": "stdout",
     "output_type": "stream",
     "text": [
      "10 50\n",
      "Image restored from temperature data and saved as temp_color_map_restored.jpg\n"
     ]
    }
   ],
   "source": [
    "import numpy as np\n",
    "import csv\n",
    "from PIL import Image\n",
    "\n",
    "# Read temperature data from CSV file\n",
    "temperature_data = []\n",
    "with open('./temperature_data.csv', 'r') as csvfile:\n",
    "    reader = csv.reader(csvfile)\n",
    "    next(reader)  # Skip header row\n",
    "    for row in reader:\n",
    "        x, y, temperature = map(int, row)\n",
    "        temperature_data.append((x, y, temperature))\n",
    "\n",
    "# Find min and max temperature values\n",
    "temperatures = [temp for _, _, temp in temperature_data]\n",
    "# find min temperaute but skip -1\n",
    "temperat = [temp for temp in temperatures if temp != -1]\n",
    "min_temp = min(temperat)\n",
    "max_temp = max(temperatures)\n",
    "print(min_temp, max_temp)\n",
    "# Create an empty image array\n",
    "width = max(x for x, _, _ in temperature_data) + 1\n",
    "height = max(y for _, y, _ in temperature_data) + 1\n",
    "image_array = np.zeros((height, width, 3), dtype=np.uint8)\n",
    "\n",
    "# Convert temperature values back to color and fill the image array\n",
    "for x, y, temperature in temperature_data:\n",
    "    if temperature == -1:\n",
    "        color = (0,0,0)\n",
    "    else:\n",
    "        # Interpolate color based on temperature value\n",
    "        normalized_temp = (temperature - min_temp) / (max_temp - min_temp)\n",
    "        green = int(255 * (1 - normalized_temp))\n",
    "        red = int(255 * normalized_temp)\n",
    "        color = (red, green, 0)  # Set blue channel to 0\n",
    "\n",
    "    # Fill the corresponding pixel in the image array with the interpolated color\n",
    "    image_array[y, x] = color\n",
    "\n",
    "# Create and save the image\n",
    "image = Image.fromarray(image_array)\n",
    "image.save('temp_color_map_restored.bmp')\n",
    "\n",
    "print(\"Image restored from temperature data and saved as temp_color_map_restored.jpg\")\n"
   ]
  },
  {
   "cell_type": "code",
   "execution_count": null,
   "metadata": {},
   "outputs": [],
   "source": []
  }
 ],
 "metadata": {
  "kernelspec": {
   "display_name": "Python 3",
   "language": "python",
   "name": "python3"
  },
  "language_info": {
   "codemirror_mode": {
    "name": "ipython",
    "version": 3
   },
   "file_extension": ".py",
   "mimetype": "text/x-python",
   "name": "python",
   "nbconvert_exporter": "python",
   "pygments_lexer": "ipython3",
   "version": "3.10.8"
  },
  "orig_nbformat": 4
 },
 "nbformat": 4,
 "nbformat_minor": 2
}

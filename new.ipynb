{
 "cells": [
  {
   "cell_type": "code",
   "execution_count": 2,
   "metadata": {},
   "outputs": [],
   "source": [
    "#  Import the necessary libraries\n",
    "import pandas as pd\n",
    "import numpy as np\n",
    "import matplotlib.pyplot as plt\n",
    "import cv2\n",
    "from cv2 import contourArea\n"
   ]
  },
  {
   "cell_type": "code",
   "execution_count": 3,
   "metadata": {},
   "outputs": [],
   "source": [
    "# Import the .bmp image\n",
    "image = cv2.imread('2000_LST.bmp', cv2.IMREAD_COLOR)"
   ]
  },
  {
   "cell_type": "code",
   "execution_count": 4,
   "metadata": {},
   "outputs": [],
   "source": [
    "# Convert the image to grayscale\n",
    "greyscale = cv2.cvtColor(image, cv2.COLOR_BGR2GRAY)"
   ]
  },
  {
   "cell_type": "code",
   "execution_count": 5,
   "metadata": {},
   "outputs": [],
   "source": [
    "# Next we need to threshold the image to get a binary image\n",
    "# We will use the Otsu's method to automatically calculate the threshold value\n",
    "# The threshold value is returned in the variable 'threshold'\n",
    "# The thresholded image is returned in the variable 'threshold_image'\n",
    "_, threshold_image = cv2.threshold(greyscale, 0, 255, cv2.THRESH_BINARY + cv2.THRESH_OTSU)\n",
    "\n",
    "# Find the contours in the thresholded image\n",
    "# The contours are returned in the variable 'contours'\n",
    "# The hierarchy is returned in the variable 'hierarchy'\n",
    "contours, hierarchy = cv2.findContours(threshold_image, cv2.RETR_EXTERNAL, cv2.CHAIN_APPROX_SIMPLE)"
   ]
  },
  {
   "cell_type": "code",
   "execution_count": null,
   "metadata": {},
   "outputs": [],
   "source": [
    "# Define a function to map RGB values to temperature\n",
    "def map_rgb_to_temperature(r, g, b):\n",
    "    # Convert RGB values to range [0, 1]\n",
    "    r /= 255.0\n",
    "    g /= 255.0\n",
    "    b /= 255.0\n",
    "\n",
    "    # Define temperature range\n",
    "    hot_temperature = 100.0\n",
    "    cold_temperature = 0.0\n",
    "\n",
    "    # Map RGB values to temperature based on color mapping\n",
    "    temperature = (1 - r) * hot_temperature + (1 - g) * cold_temperature\n",
    "\n",
    "    return temperature\n",
    "\n",
    "\n",
    "# Define a function to map temperature to color\n",
    "def map_temperature_to_color(temperature):\n",
    "    hot_color = (0, 0, 255)      # Red\n",
    "    cold_color = (0, 255, 0)     # Green\n",
    "    moderate_color = (255, 165, 0)  # Orange\n",
    "\n",
    "    # Map temperature to color based on temperature ranges\n",
    "    if temperature >= 80.0:\n",
    "        return hot_color\n",
    "    elif temperature <= 40.0:\n",
    "        return cold_color\n",
    "    else:\n",
    "        return moderate_color\n",
    "\n",
    "\n",
    "# Define a function to calculate temperature from RGB values\n",
    "def calculate_temperature(r, g, b):\n",
    "    # Convert RGB values to range [0, 1]\n",
    "    r /= 255.0\n",
    "    g /= 255.0\n",
    "    b /= 255.0\n",
    "\n",
    "    # Define temperature range\n",
    "    hot_temperature = 100.0\n",
    "    cold_temperature = 0.0\n",
    "\n",
    "    # Map RGB values to temperature based on color mapping\n",
    "    temperature = (1 - r) * hot_temperature + (1 - g) * cold_temperature\n",
    "\n",
    "    return temperature\n",
    "\n",
    "\n",
    "# Define a function to calculate the average temperature of a contour\n",
    "def calculate_average_temperature(contour, image):\n",
    "    # Extract pixel RGB values within contour\n",
    "    temperature_data = []\n",
    "    for point in contour:\n",
    "        # Get RGB color values\n",
    "        pixel = image[point[0][1], point[0][0]]\n",
    "        r, g, b = pixel[2], pixel[1], pixel[0]\n",
    "\n",
    "        # Map RGB values to temperature using your specific color mapping scheme\n",
    "        temperature = calculate_temperature(r, g, b)\n",
    "\n",
    "        # Calculate temperature value (additional calculations may be required)\n",
    "        temperature_data.append(temperature)\n",
    "\n",
    "    # Calculate average temperature\n",
    "    average_temperature = np.mean(temperature_data)\n",
    "\n",
    "    return average_temperature\n"
   ]
  },
  {
   "cell_type": "code",
   "execution_count": null,
   "metadata": {},
   "outputs": [],
   "source": [
    "# Next we will create a temperature map\n",
    "# We will iterate over each contour and calculate the average temperature of each contour\n",
    "# We will then map the average temperature to a color and draw the contour on the temperature map\n",
    "temperature_map = np.zeros_like(image, dtype=np.uint8)\n",
    "for contour in contours:\n",
    "    # Calculate average temperature of contour\n",
    "    average_temperature = calculate_average_temperature(contour, image)\n",
    "\n",
    "    # Map temperature to color\n",
    "    color = map_temperature_to_color(average_temperature)\n",
    "\n",
    "    # Draw contour on temperature map\n",
    "    cv2.drawContours(temperature_map, [contour], -1, color, thickness=cv2.FILLED)\n",
    "\n",
    "# Display the temperature map\n",
    "cv2.imshow('Temperature Map', temperature_map)\n",
    "cv2.namedWindow('Temperature Map', cv2.WINDOW_NORMAL)\n",
    "cv2.waitKey(0)\n",
    "cv2.destroyAllWindows()\n",
    "\n"
   ]
  },
  {
   "cell_type": "code",
   "execution_count": null,
   "metadata": {},
   "outputs": [],
   "source": [
    "# Save the temperature map\n",
    "cv2.imwrite('temperature_map.png', temperature_map)\n"
   ]
  }
 ],
 "metadata": {
  "kernelspec": {
   "display_name": "Python 3",
   "language": "python",
   "name": "python3"
  },
  "language_info": {
   "codemirror_mode": {
    "name": "ipython",
    "version": 3
   },
   "file_extension": ".py",
   "mimetype": "text/x-python",
   "name": "python",
   "nbconvert_exporter": "python",
   "pygments_lexer": "ipython3",
   "version": "3.10.8"
  },
  "orig_nbformat": 4
 },
 "nbformat": 4,
 "nbformat_minor": 2
}
